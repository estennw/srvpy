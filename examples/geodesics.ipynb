{
 "cells": [
  {
   "cell_type": "code",
   "execution_count": 1,
   "metadata": {},
   "outputs": [
    {
     "ename": "ModuleNotFoundError",
     "evalue": "No module named 'srvf'",
     "output_type": "error",
     "traceback": [
      "\u001b[0;31m---------------------------------------------------------------------------\u001b[0m",
      "\u001b[0;31mModuleNotFoundError\u001b[0m                       Traceback (most recent call last)",
      "\u001b[0;32m<ipython-input-1-2a7e1f30e917>\u001b[0m in \u001b[0;36m<module>\u001b[0;34m()\u001b[0m\n\u001b[1;32m      5\u001b[0m \u001b[0;32mfrom\u001b[0m \u001b[0msvgpathtools\u001b[0m \u001b[0;32mimport\u001b[0m \u001b[0mPath\u001b[0m\u001b[0;34m\u001b[0m\u001b[0m\n\u001b[1;32m      6\u001b[0m \u001b[0;34m\u001b[0m\u001b[0m\n\u001b[0;32m----> 7\u001b[0;31m \u001b[0;32mfrom\u001b[0m \u001b[0msrvf\u001b[0m\u001b[0;34m.\u001b[0m\u001b[0mopen\u001b[0m \u001b[0;32mimport\u001b[0m \u001b[0mRegistration\u001b[0m\u001b[0;34m\u001b[0m\u001b[0m\n\u001b[0m\u001b[1;32m      8\u001b[0m \u001b[0;32mfrom\u001b[0m \u001b[0msrvf\u001b[0m\u001b[0;34m.\u001b[0m\u001b[0mopen\u001b[0m\u001b[0;34m.\u001b[0m\u001b[0mschemes\u001b[0m \u001b[0;32mimport\u001b[0m \u001b[0mVInf\u001b[0m\u001b[0;34m\u001b[0m\u001b[0m\n\u001b[1;32m      9\u001b[0m \u001b[0;32mfrom\u001b[0m \u001b[0msrvf\u001b[0m\u001b[0;34m.\u001b[0m\u001b[0mopen\u001b[0m\u001b[0;34m.\u001b[0m\u001b[0mpaths\u001b[0m \u001b[0;32mimport\u001b[0m \u001b[0mKNIGHT\u001b[0m\u001b[0;34m,\u001b[0m \u001b[0mBISHOP\u001b[0m\u001b[0;34m\u001b[0m\u001b[0m\n",
      "\u001b[0;31mModuleNotFoundError\u001b[0m: No module named 'srvf'"
     ]
    }
   ],
   "source": [
    "%matplotlib inline\n",
    "%config InlineBackend.figure_format = 'svg'\n",
    "import numpy as np\n",
    "import matplotlib.pyplot as plt\n",
    "from svgpathtools import Path\n",
    "\n",
    "from srvf.open import Registration\n",
    "from srvf.open.schemes import VInf\n",
    "from srvf.open.paths import KNIGHT, BISHOP"
   ]
  },
  {
   "cell_type": "markdown",
   "metadata": {},
   "source": [
    "# Basic Usage: Geodesics in S(C)\n",
    "\n",
    "This is a demonstration on computing shape space geodesics using the srvpy package. \n",
    "\n",
    "We start by loading the curves. In this example, we use example SVG paths representing `srvpy.open.paths.KNIGHT` and `srvpy.open.paths.BISHOP` representing chess pieces knight and bishop. The paths are converted into point evaluations in the complex plane."
   ]
  },
  {
   "cell_type": "code",
   "execution_count": null,
   "metadata": {},
   "outputs": [],
   "source": [
    "# Construct path using svgpathtools and compute their lengths\n",
    "path1 = Path(KNIGHT)\n",
    "path2 = Path(BISHOP)\n",
    "l1 = path1.length()\n",
    "l2 = path2.length()\n",
    "\n",
    "# Evaluate the paths at 1000 points\n",
    "n = 1000\n",
    "t = np.linspace(0,1,n+1)\n",
    "c1 = np.array([path1.point(t) for t in t])\n",
    "c2 = np.array([path2.point(t) for t in t])\n",
    "\n",
    "# Plot the shapes\n",
    "plt.figure(figsize=(10,3))\n",
    "plt.plot(c1.real,c1.imag)\n",
    "plt.plot(c2.real+25,c2.imag)\n",
    "plt.gca().set_aspect('equal')\n",
    "plt.axis('off')\n",
    "plt.show()"
   ]
  },
  {
   "cell_type": "markdown",
   "metadata": {},
   "source": [
    "### The Registration object\n",
    "\n",
    "The `Registration` object is the object used to register curves and compute shape space geodesics. The object requires two objects of type `ndarray` representing the curves. The length of the curves can be passed as optional arguments. If they are not available, they will be estimated when `Registration.setup(self,scheme)` is called. \n",
    "\n",
    "### The Scheme object\n",
    "\n",
    "In order "
   ]
  },
  {
   "cell_type": "code",
   "execution_count": null,
   "metadata": {},
   "outputs": [],
   "source": [
    "align = Registration(c1,c2,l1=l1,l2=l2)\n",
    "align.setup(VInf)"
   ]
  },
  {
   "cell_type": "markdown",
   "metadata": {},
   "source": [
    "### Pre-Shape Space Geodesics\n",
    "\n",
    "From the `Registration` object, we can compute pre-shape space geodesics, using the `Registration.preshapeGeodesic(self,tau)` method. The input argument `tau` is an `ndarray` containing the geodesic times `0<=tau<=0` for which to evaluate the geodesic. \n",
    "\n",
    "Since the curves are not registered, the pre-shape space geodesic do not correspond to the shape space geodesic."
   ]
  },
  {
   "cell_type": "code",
   "execution_count": null,
   "metadata": {},
   "outputs": [],
   "source": [
    "tau = np.linspace(0,1,7)\n",
    "gamma = align.preshapeGeodesic(tau)\n",
    "gamma += 25*np.arange(7)[None,:]\n",
    "plt.figure(figsize=(10,3))\n",
    "for i in range(7):\n",
    "    plt.plot(gamma[:,i].real,gamma[:,i].imag)\n",
    "plt.gca().set_aspect('equal')\n",
    "plt.axis('off')\n",
    "plt.show()"
   ]
  },
  {
   "cell_type": "markdown",
   "metadata": {},
   "source": [
    "### Registering the Curves\n",
    "\n",
    "Registration of the curves is performed using the `Registration.register()` method. This method has three steps:\n",
    "\n",
    "- `Registration.solveHJB(self)` solves the HJB equation.\n",
    "- `phi = Registration.backtrackHJB(self)` backtracks the HJB equation to obtain an estimate `phi` to the optimal reparametrization path\n",
    "- `Registration.resample(self,phi)` resamples the curves stored in the `Registraion` object such that each point in `Registration.c1` and `Registration.c2` are registered to each other.\n",
    "\n",
    "Note in particular that the attributes `c1` and `c2` are modified by the `Registration.resample` method."
   ]
  },
  {
   "cell_type": "code",
   "execution_count": null,
   "metadata": {},
   "outputs": [],
   "source": [
    "align.register()\n",
    "\n",
    "gamma = align.preshapeGeodesic(tau)\n",
    "gamma += 25*np.arange(7)[None,:]\n",
    "plt.figure(figsize=(10,3))\n",
    "for i in range(7):\n",
    "    plt.plot(gamma[:,i].real,gamma[:,i].imag)\n",
    "plt.gca().set_aspect('equal')\n",
    "plt.axis('off')\n",
    "plt.show()"
   ]
  }
 ],
 "metadata": {
  "kernelspec": {
   "display_name": "Python 3",
   "language": "python",
   "name": "python3"
  },
  "language_info": {
   "codemirror_mode": {
    "name": "ipython",
    "version": 3
   },
   "file_extension": ".py",
   "mimetype": "text/x-python",
   "name": "python",
   "nbconvert_exporter": "python",
   "pygments_lexer": "ipython3",
   "version": "3.7.0"
  }
 },
 "nbformat": 4,
 "nbformat_minor": 2
}
